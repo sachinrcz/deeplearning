{
 "cells": [
  {
   "cell_type": "code",
   "execution_count": 1,
   "id": "72f78961-c567-4f3b-9b96-b3fbf3e42f82",
   "metadata": {},
   "outputs": [],
   "source": [
    "import os\n",
    "from pathlib import Path\n",
    "\n",
    "iskaggle = os.environ.get('KAGGLE_KERNEL_RUN_TYPE', '')\n",
    "if iskaggle: path = Path('../input/titanic')\n",
    "else:\n",
    "    path = Path('Data/titanic')\n",
    "    if not path.exists():\n",
    "        import zipfile,kaggle\n",
    "        kaggle.api.competition_download_cli(str(path))\n",
    "        zipfile.ZipFile(f'{path}.zip').extractall(path)"
   ]
  },
  {
   "cell_type": "code",
   "execution_count": 2,
   "id": "80471b98-1d5f-47d7-82ef-dbaecf13e2a1",
   "metadata": {},
   "outputs": [],
   "source": [
    "import torch, numpy as np, pandas as pd\n",
    "np.set_printoptions(linewidth=140)\n",
    "torch.set_printoptions(linewidth=140, sci_mode=False, edgeitems=7)\n",
    "pd.set_option('display.width', 140)"
   ]
  },
  {
   "cell_type": "code",
   "execution_count": 3,
   "id": "fffe90c5-92cb-4650-8581-be3e16c2d892",
   "metadata": {},
   "outputs": [],
   "source": [
    "df = pd.read_csv(path/'train.csv')"
   ]
  },
  {
   "cell_type": "code",
   "execution_count": 4,
   "id": "6ee8e0f3-6bb6-48a5-997c-e4cbd43d6481",
   "metadata": {},
   "outputs": [
    {
     "data": {
      "text/html": [
       "<div>\n",
       "<style scoped>\n",
       "    .dataframe tbody tr th:only-of-type {\n",
       "        vertical-align: middle;\n",
       "    }\n",
       "\n",
       "    .dataframe tbody tr th {\n",
       "        vertical-align: top;\n",
       "    }\n",
       "\n",
       "    .dataframe thead th {\n",
       "        text-align: right;\n",
       "    }\n",
       "</style>\n",
       "<table border=\"1\" class=\"dataframe\">\n",
       "  <thead>\n",
       "    <tr style=\"text-align: right;\">\n",
       "      <th></th>\n",
       "      <th>PassengerId</th>\n",
       "      <th>Survived</th>\n",
       "      <th>Pclass</th>\n",
       "      <th>Name</th>\n",
       "      <th>Sex</th>\n",
       "      <th>Age</th>\n",
       "      <th>SibSp</th>\n",
       "      <th>Parch</th>\n",
       "      <th>Ticket</th>\n",
       "      <th>Fare</th>\n",
       "      <th>Cabin</th>\n",
       "      <th>Embarked</th>\n",
       "    </tr>\n",
       "  </thead>\n",
       "  <tbody>\n",
       "    <tr>\n",
       "      <th>0</th>\n",
       "      <td>1</td>\n",
       "      <td>0</td>\n",
       "      <td>3</td>\n",
       "      <td>Braund, Mr. Owen Harris</td>\n",
       "      <td>male</td>\n",
       "      <td>22.0</td>\n",
       "      <td>1</td>\n",
       "      <td>0</td>\n",
       "      <td>A/5 21171</td>\n",
       "      <td>7.2500</td>\n",
       "      <td>NaN</td>\n",
       "      <td>S</td>\n",
       "    </tr>\n",
       "    <tr>\n",
       "      <th>1</th>\n",
       "      <td>2</td>\n",
       "      <td>1</td>\n",
       "      <td>1</td>\n",
       "      <td>Cumings, Mrs. John Bradley (Florence Briggs Th...</td>\n",
       "      <td>female</td>\n",
       "      <td>38.0</td>\n",
       "      <td>1</td>\n",
       "      <td>0</td>\n",
       "      <td>PC 17599</td>\n",
       "      <td>71.2833</td>\n",
       "      <td>C85</td>\n",
       "      <td>C</td>\n",
       "    </tr>\n",
       "    <tr>\n",
       "      <th>2</th>\n",
       "      <td>3</td>\n",
       "      <td>1</td>\n",
       "      <td>3</td>\n",
       "      <td>Heikkinen, Miss. Laina</td>\n",
       "      <td>female</td>\n",
       "      <td>26.0</td>\n",
       "      <td>0</td>\n",
       "      <td>0</td>\n",
       "      <td>STON/O2. 3101282</td>\n",
       "      <td>7.9250</td>\n",
       "      <td>NaN</td>\n",
       "      <td>S</td>\n",
       "    </tr>\n",
       "    <tr>\n",
       "      <th>3</th>\n",
       "      <td>4</td>\n",
       "      <td>1</td>\n",
       "      <td>1</td>\n",
       "      <td>Futrelle, Mrs. Jacques Heath (Lily May Peel)</td>\n",
       "      <td>female</td>\n",
       "      <td>35.0</td>\n",
       "      <td>1</td>\n",
       "      <td>0</td>\n",
       "      <td>113803</td>\n",
       "      <td>53.1000</td>\n",
       "      <td>C123</td>\n",
       "      <td>S</td>\n",
       "    </tr>\n",
       "    <tr>\n",
       "      <th>4</th>\n",
       "      <td>5</td>\n",
       "      <td>0</td>\n",
       "      <td>3</td>\n",
       "      <td>Allen, Mr. William Henry</td>\n",
       "      <td>male</td>\n",
       "      <td>35.0</td>\n",
       "      <td>0</td>\n",
       "      <td>0</td>\n",
       "      <td>373450</td>\n",
       "      <td>8.0500</td>\n",
       "      <td>NaN</td>\n",
       "      <td>S</td>\n",
       "    </tr>\n",
       "    <tr>\n",
       "      <th>...</th>\n",
       "      <td>...</td>\n",
       "      <td>...</td>\n",
       "      <td>...</td>\n",
       "      <td>...</td>\n",
       "      <td>...</td>\n",
       "      <td>...</td>\n",
       "      <td>...</td>\n",
       "      <td>...</td>\n",
       "      <td>...</td>\n",
       "      <td>...</td>\n",
       "      <td>...</td>\n",
       "      <td>...</td>\n",
       "    </tr>\n",
       "    <tr>\n",
       "      <th>886</th>\n",
       "      <td>887</td>\n",
       "      <td>0</td>\n",
       "      <td>2</td>\n",
       "      <td>Montvila, Rev. Juozas</td>\n",
       "      <td>male</td>\n",
       "      <td>27.0</td>\n",
       "      <td>0</td>\n",
       "      <td>0</td>\n",
       "      <td>211536</td>\n",
       "      <td>13.0000</td>\n",
       "      <td>NaN</td>\n",
       "      <td>S</td>\n",
       "    </tr>\n",
       "    <tr>\n",
       "      <th>887</th>\n",
       "      <td>888</td>\n",
       "      <td>1</td>\n",
       "      <td>1</td>\n",
       "      <td>Graham, Miss. Margaret Edith</td>\n",
       "      <td>female</td>\n",
       "      <td>19.0</td>\n",
       "      <td>0</td>\n",
       "      <td>0</td>\n",
       "      <td>112053</td>\n",
       "      <td>30.0000</td>\n",
       "      <td>B42</td>\n",
       "      <td>S</td>\n",
       "    </tr>\n",
       "    <tr>\n",
       "      <th>888</th>\n",
       "      <td>889</td>\n",
       "      <td>0</td>\n",
       "      <td>3</td>\n",
       "      <td>Johnston, Miss. Catherine Helen \"Carrie\"</td>\n",
       "      <td>female</td>\n",
       "      <td>NaN</td>\n",
       "      <td>1</td>\n",
       "      <td>2</td>\n",
       "      <td>W./C. 6607</td>\n",
       "      <td>23.4500</td>\n",
       "      <td>NaN</td>\n",
       "      <td>S</td>\n",
       "    </tr>\n",
       "    <tr>\n",
       "      <th>889</th>\n",
       "      <td>890</td>\n",
       "      <td>1</td>\n",
       "      <td>1</td>\n",
       "      <td>Behr, Mr. Karl Howell</td>\n",
       "      <td>male</td>\n",
       "      <td>26.0</td>\n",
       "      <td>0</td>\n",
       "      <td>0</td>\n",
       "      <td>111369</td>\n",
       "      <td>30.0000</td>\n",
       "      <td>C148</td>\n",
       "      <td>C</td>\n",
       "    </tr>\n",
       "    <tr>\n",
       "      <th>890</th>\n",
       "      <td>891</td>\n",
       "      <td>0</td>\n",
       "      <td>3</td>\n",
       "      <td>Dooley, Mr. Patrick</td>\n",
       "      <td>male</td>\n",
       "      <td>32.0</td>\n",
       "      <td>0</td>\n",
       "      <td>0</td>\n",
       "      <td>370376</td>\n",
       "      <td>7.7500</td>\n",
       "      <td>NaN</td>\n",
       "      <td>Q</td>\n",
       "    </tr>\n",
       "  </tbody>\n",
       "</table>\n",
       "<p>891 rows × 12 columns</p>\n",
       "</div>"
      ],
      "text/plain": [
       "     PassengerId  Survived  Pclass                                               Name     Sex   Age  SibSp  Parch            Ticket  \\\n",
       "0              1         0       3                            Braund, Mr. Owen Harris    male  22.0      1      0         A/5 21171   \n",
       "1              2         1       1  Cumings, Mrs. John Bradley (Florence Briggs Th...  female  38.0      1      0          PC 17599   \n",
       "2              3         1       3                             Heikkinen, Miss. Laina  female  26.0      0      0  STON/O2. 3101282   \n",
       "3              4         1       1       Futrelle, Mrs. Jacques Heath (Lily May Peel)  female  35.0      1      0            113803   \n",
       "4              5         0       3                           Allen, Mr. William Henry    male  35.0      0      0            373450   \n",
       "..           ...       ...     ...                                                ...     ...   ...    ...    ...               ...   \n",
       "886          887         0       2                              Montvila, Rev. Juozas    male  27.0      0      0            211536   \n",
       "887          888         1       1                       Graham, Miss. Margaret Edith  female  19.0      0      0            112053   \n",
       "888          889         0       3           Johnston, Miss. Catherine Helen \"Carrie\"  female   NaN      1      2        W./C. 6607   \n",
       "889          890         1       1                              Behr, Mr. Karl Howell    male  26.0      0      0            111369   \n",
       "890          891         0       3                                Dooley, Mr. Patrick    male  32.0      0      0            370376   \n",
       "\n",
       "        Fare Cabin Embarked  \n",
       "0     7.2500   NaN        S  \n",
       "1    71.2833   C85        C  \n",
       "2     7.9250   NaN        S  \n",
       "3    53.1000  C123        S  \n",
       "4     8.0500   NaN        S  \n",
       "..       ...   ...      ...  \n",
       "886  13.0000   NaN        S  \n",
       "887  30.0000   B42        S  \n",
       "888  23.4500   NaN        S  \n",
       "889  30.0000  C148        C  \n",
       "890   7.7500   NaN        Q  \n",
       "\n",
       "[891 rows x 12 columns]"
      ]
     },
     "execution_count": 4,
     "metadata": {},
     "output_type": "execute_result"
    }
   ],
   "source": [
    "df"
   ]
  },
  {
   "cell_type": "code",
   "execution_count": 5,
   "id": "c9f97373-7c89-4234-8591-bf3c6424b83b",
   "metadata": {},
   "outputs": [
    {
     "data": {
      "text/plain": [
       "PassengerId      0\n",
       "Survived         0\n",
       "Pclass           0\n",
       "Name             0\n",
       "Sex              0\n",
       "Age            177\n",
       "SibSp            0\n",
       "Parch            0\n",
       "Ticket           0\n",
       "Fare             0\n",
       "Cabin          687\n",
       "Embarked         2\n",
       "dtype: int64"
      ]
     },
     "execution_count": 5,
     "metadata": {},
     "output_type": "execute_result"
    }
   ],
   "source": [
    "df.isna().sum()"
   ]
  },
  {
   "cell_type": "code",
   "execution_count": 6,
   "id": "8463dcfb-0692-47cd-9cfb-cf6661857245",
   "metadata": {},
   "outputs": [
    {
     "data": {
      "text/plain": [
       "PassengerId                      1\n",
       "Survived                       0.0\n",
       "Pclass                         3.0\n",
       "Name           Abbing, Mr. Anthony\n",
       "Sex                           male\n",
       "Age                           24.0\n",
       "SibSp                          0.0\n",
       "Parch                          0.0\n",
       "Ticket                        1601\n",
       "Fare                          8.05\n",
       "Cabin                      B96 B98\n",
       "Embarked                         S\n",
       "Name: 0, dtype: object"
      ]
     },
     "execution_count": 6,
     "metadata": {},
     "output_type": "execute_result"
    }
   ],
   "source": [
    "modes = df.mode().iloc[0]\n",
    "modes"
   ]
  },
  {
   "cell_type": "code",
   "execution_count": 7,
   "id": "490b52e2-1927-4df6-a8dc-6d8978fb2ad5",
   "metadata": {},
   "outputs": [],
   "source": [
    "df.fillna(modes, inplace=True)"
   ]
  },
  {
   "cell_type": "code",
   "execution_count": 8,
   "id": "8b5d7bb2-3bf4-4c99-a593-3e9bb10b77e6",
   "metadata": {},
   "outputs": [
    {
     "data": {
      "text/html": [
       "<div>\n",
       "<style scoped>\n",
       "    .dataframe tbody tr th:only-of-type {\n",
       "        vertical-align: middle;\n",
       "    }\n",
       "\n",
       "    .dataframe tbody tr th {\n",
       "        vertical-align: top;\n",
       "    }\n",
       "\n",
       "    .dataframe thead th {\n",
       "        text-align: right;\n",
       "    }\n",
       "</style>\n",
       "<table border=\"1\" class=\"dataframe\">\n",
       "  <thead>\n",
       "    <tr style=\"text-align: right;\">\n",
       "      <th></th>\n",
       "      <th>PassengerId</th>\n",
       "      <th>Survived</th>\n",
       "      <th>Pclass</th>\n",
       "      <th>Age</th>\n",
       "      <th>SibSp</th>\n",
       "      <th>Parch</th>\n",
       "      <th>Fare</th>\n",
       "    </tr>\n",
       "  </thead>\n",
       "  <tbody>\n",
       "    <tr>\n",
       "      <th>count</th>\n",
       "      <td>891.000000</td>\n",
       "      <td>891.000000</td>\n",
       "      <td>891.000000</td>\n",
       "      <td>891.000000</td>\n",
       "      <td>891.000000</td>\n",
       "      <td>891.000000</td>\n",
       "      <td>891.000000</td>\n",
       "    </tr>\n",
       "    <tr>\n",
       "      <th>mean</th>\n",
       "      <td>446.000000</td>\n",
       "      <td>0.383838</td>\n",
       "      <td>2.308642</td>\n",
       "      <td>28.566970</td>\n",
       "      <td>0.523008</td>\n",
       "      <td>0.381594</td>\n",
       "      <td>32.204208</td>\n",
       "    </tr>\n",
       "    <tr>\n",
       "      <th>std</th>\n",
       "      <td>257.353842</td>\n",
       "      <td>0.486592</td>\n",
       "      <td>0.836071</td>\n",
       "      <td>13.199572</td>\n",
       "      <td>1.102743</td>\n",
       "      <td>0.806057</td>\n",
       "      <td>49.693429</td>\n",
       "    </tr>\n",
       "    <tr>\n",
       "      <th>min</th>\n",
       "      <td>1.000000</td>\n",
       "      <td>0.000000</td>\n",
       "      <td>1.000000</td>\n",
       "      <td>0.420000</td>\n",
       "      <td>0.000000</td>\n",
       "      <td>0.000000</td>\n",
       "      <td>0.000000</td>\n",
       "    </tr>\n",
       "    <tr>\n",
       "      <th>25%</th>\n",
       "      <td>223.500000</td>\n",
       "      <td>0.000000</td>\n",
       "      <td>2.000000</td>\n",
       "      <td>22.000000</td>\n",
       "      <td>0.000000</td>\n",
       "      <td>0.000000</td>\n",
       "      <td>7.910400</td>\n",
       "    </tr>\n",
       "    <tr>\n",
       "      <th>50%</th>\n",
       "      <td>446.000000</td>\n",
       "      <td>0.000000</td>\n",
       "      <td>3.000000</td>\n",
       "      <td>24.000000</td>\n",
       "      <td>0.000000</td>\n",
       "      <td>0.000000</td>\n",
       "      <td>14.454200</td>\n",
       "    </tr>\n",
       "    <tr>\n",
       "      <th>75%</th>\n",
       "      <td>668.500000</td>\n",
       "      <td>1.000000</td>\n",
       "      <td>3.000000</td>\n",
       "      <td>35.000000</td>\n",
       "      <td>1.000000</td>\n",
       "      <td>0.000000</td>\n",
       "      <td>31.000000</td>\n",
       "    </tr>\n",
       "    <tr>\n",
       "      <th>max</th>\n",
       "      <td>891.000000</td>\n",
       "      <td>1.000000</td>\n",
       "      <td>3.000000</td>\n",
       "      <td>80.000000</td>\n",
       "      <td>8.000000</td>\n",
       "      <td>6.000000</td>\n",
       "      <td>512.329200</td>\n",
       "    </tr>\n",
       "  </tbody>\n",
       "</table>\n",
       "</div>"
      ],
      "text/plain": [
       "       PassengerId    Survived      Pclass         Age       SibSp       Parch        Fare\n",
       "count   891.000000  891.000000  891.000000  891.000000  891.000000  891.000000  891.000000\n",
       "mean    446.000000    0.383838    2.308642   28.566970    0.523008    0.381594   32.204208\n",
       "std     257.353842    0.486592    0.836071   13.199572    1.102743    0.806057   49.693429\n",
       "min       1.000000    0.000000    1.000000    0.420000    0.000000    0.000000    0.000000\n",
       "25%     223.500000    0.000000    2.000000   22.000000    0.000000    0.000000    7.910400\n",
       "50%     446.000000    0.000000    3.000000   24.000000    0.000000    0.000000   14.454200\n",
       "75%     668.500000    1.000000    3.000000   35.000000    1.000000    0.000000   31.000000\n",
       "max     891.000000    1.000000    3.000000   80.000000    8.000000    6.000000  512.329200"
      ]
     },
     "execution_count": 8,
     "metadata": {},
     "output_type": "execute_result"
    }
   ],
   "source": [
    "df.describe(include=(np.number))"
   ]
  },
  {
   "cell_type": "code",
   "execution_count": 9,
   "id": "ce93be15-e063-4f6d-8410-a876e60406ea",
   "metadata": {},
   "outputs": [
    {
     "data": {
      "text/plain": [
       "<AxesSubplot: >"
      ]
     },
     "execution_count": 9,
     "metadata": {},
     "output_type": "execute_result"
    },
    {
     "data": {
      "image/png": "[encoded data removed]",
      "text/plain": [
       "<Figure size 640x480 with 1 Axes>"
      ]
     },
     "metadata": {},
     "output_type": "display_data"
    }
   ],
   "source": [
    "df['Fare'].hist()"
   ]
  },
  {
   "cell_type": "code",
   "execution_count": 10,
   "id": "0224c955-f992-417e-889d-5935e1de5d19",
   "metadata": {},
   "outputs": [],
   "source": [
    "df['LogFare'] = np.log(df['Fare']+1)"
   ]
  },
  {
   "cell_type": "code",
   "execution_count": 11,
   "id": "8ace06f4-cd53-468a-b03a-71b05cdde755",
   "metadata": {},
   "outputs": [
    {
     "data": {
      "text/plain": [
       "<AxesSubplot: >"
      ]
     },
     "execution_count": 11,
     "metadata": {},
     "output_type": "execute_result"
    },
    {
     "data": {
      "image/png": "[encoded data removed]",
      "text/plain": [
       "<Figure size 640x480 with 1 Axes>"
      ]
     },
     "metadata": {},
     "output_type": "display_data"
    }
   ],
   "source": [
    "df['LogFare'].hist()"
   ]
  },
  {
   "cell_type": "code",
   "execution_count": 12,
   "id": "bd46fa51-94de-4ed4-93b9-99cca4937bcb",
   "metadata": {},
   "outputs": [
    {
     "data": {
      "text/plain": [
       "[1, 2, 3]"
      ]
     },
     "execution_count": 12,
     "metadata": {},
     "output_type": "execute_result"
    }
   ],
   "source": [
    "pclasses = sorted(df['Pclass'].unique())\n",
    "pclasses"
   ]
  },
  {
   "cell_type": "code",
   "execution_count": 13,
   "id": "f631b0ac-7441-4006-8d03-80224d3c112b",
   "metadata": {},
   "outputs": [
    {
     "data": {
      "text/html": [
       "<div>\n",
       "<style scoped>\n",
       "    .dataframe tbody tr th:only-of-type {\n",
       "        vertical-align: middle;\n",
       "    }\n",
       "\n",
       "    .dataframe tbody tr th {\n",
       "        vertical-align: top;\n",
       "    }\n",
       "\n",
       "    .dataframe thead th {\n",
       "        text-align: right;\n",
       "    }\n",
       "</style>\n",
       "<table border=\"1\" class=\"dataframe\">\n",
       "  <thead>\n",
       "    <tr style=\"text-align: right;\">\n",
       "      <th></th>\n",
       "      <th>Name</th>\n",
       "      <th>Sex</th>\n",
       "      <th>Ticket</th>\n",
       "      <th>Cabin</th>\n",
       "      <th>Embarked</th>\n",
       "    </tr>\n",
       "  </thead>\n",
       "  <tbody>\n",
       "    <tr>\n",
       "      <th>count</th>\n",
       "      <td>891</td>\n",
       "      <td>891</td>\n",
       "      <td>891</td>\n",
       "      <td>891</td>\n",
       "      <td>891</td>\n",
       "    </tr>\n",
       "    <tr>\n",
       "      <th>unique</th>\n",
       "      <td>891</td>\n",
       "      <td>2</td>\n",
       "      <td>681</td>\n",
       "      <td>147</td>\n",
       "      <td>3</td>\n",
       "    </tr>\n",
       "    <tr>\n",
       "      <th>top</th>\n",
       "      <td>Braund, Mr. Owen Harris</td>\n",
       "      <td>male</td>\n",
       "      <td>347082</td>\n",
       "      <td>B96 B98</td>\n",
       "      <td>S</td>\n",
       "    </tr>\n",
       "    <tr>\n",
       "      <th>freq</th>\n",
       "      <td>1</td>\n",
       "      <td>577</td>\n",
       "      <td>7</td>\n",
       "      <td>691</td>\n",
       "      <td>646</td>\n",
       "    </tr>\n",
       "  </tbody>\n",
       "</table>\n",
       "</div>"
      ],
      "text/plain": [
       "                           Name   Sex  Ticket    Cabin Embarked\n",
       "count                       891   891     891      891      891\n",
       "unique                      891     2     681      147        3\n",
       "top     Braund, Mr. Owen Harris  male  347082  B96 B98        S\n",
       "freq                          1   577       7      691      646"
      ]
     },
     "execution_count": 13,
     "metadata": {},
     "output_type": "execute_result"
    }
   ],
   "source": [
    "df.describe(include='object')"
   ]
  },
  {
   "cell_type": "code",
   "execution_count": 14,
   "id": "86f5e006-1f22-4f92-b551-1b7e670e2ff4",
   "metadata": {},
   "outputs": [],
   "source": [
    "df = pd.get_dummies(df, columns=['Sex', 'Pclass', 'Embarked'])"
   ]
  },
  {
   "cell_type": "code",
   "execution_count": 15,
   "id": "22433ed2-afdb-4151-88c8-56bee91a71e0",
   "metadata": {},
   "outputs": [
    {
     "data": {
      "text/plain": [
       "Index(['PassengerId', 'Survived', 'Name', 'Age', 'SibSp', 'Parch', 'Ticket', 'Fare', 'Cabin', 'LogFare', 'Sex_female', 'Sex_male',\n",
       "       'Pclass_1', 'Pclass_2', 'Pclass_3', 'Embarked_C', 'Embarked_Q', 'Embarked_S'],\n",
       "      dtype='object')"
      ]
     },
     "execution_count": 15,
     "metadata": {},
     "output_type": "execute_result"
    }
   ],
   "source": [
    "df.columns"
   ]
  },
  {
   "cell_type": "code",
   "execution_count": 16,
   "id": "e4ac32de-61e9-488c-845e-bbd4b188120a",
   "metadata": {},
   "outputs": [
    {
     "data": {
      "text/html": [
       "<div>\n",
       "<style scoped>\n",
       "    .dataframe tbody tr th:only-of-type {\n",
       "        vertical-align: middle;\n",
       "    }\n",
       "\n",
       "    .dataframe tbody tr th {\n",
       "        vertical-align: top;\n",
       "    }\n",
       "\n",
       "    .dataframe thead th {\n",
       "        text-align: right;\n",
       "    }\n",
       "</style>\n",
       "<table border=\"1\" class=\"dataframe\">\n",
       "  <thead>\n",
       "    <tr style=\"text-align: right;\">\n",
       "      <th></th>\n",
       "      <th>Sex_male</th>\n",
       "      <th>Sex_female</th>\n",
       "      <th>Pclass_1</th>\n",
       "      <th>Pclass_2</th>\n",
       "      <th>Pclass_3</th>\n",
       "      <th>Embarked_C</th>\n",
       "      <th>Embarked_Q</th>\n",
       "      <th>Embarked_S</th>\n",
       "    </tr>\n",
       "  </thead>\n",
       "  <tbody>\n",
       "    <tr>\n",
       "      <th>0</th>\n",
       "      <td>1</td>\n",
       "      <td>0</td>\n",
       "      <td>0</td>\n",
       "      <td>0</td>\n",
       "      <td>1</td>\n",
       "      <td>0</td>\n",
       "      <td>0</td>\n",
       "      <td>1</td>\n",
       "    </tr>\n",
       "    <tr>\n",
       "      <th>1</th>\n",
       "      <td>0</td>\n",
       "      <td>1</td>\n",
       "      <td>1</td>\n",
       "      <td>0</td>\n",
       "      <td>0</td>\n",
       "      <td>1</td>\n",
       "      <td>0</td>\n",
       "      <td>0</td>\n",
       "    </tr>\n",
       "    <tr>\n",
       "      <th>2</th>\n",
       "      <td>0</td>\n",
       "      <td>1</td>\n",
       "      <td>0</td>\n",
       "      <td>0</td>\n",
       "      <td>1</td>\n",
       "      <td>0</td>\n",
       "      <td>0</td>\n",
       "      <td>1</td>\n",
       "    </tr>\n",
       "    <tr>\n",
       "      <th>3</th>\n",
       "      <td>0</td>\n",
       "      <td>1</td>\n",
       "      <td>1</td>\n",
       "      <td>0</td>\n",
       "      <td>0</td>\n",
       "      <td>0</td>\n",
       "      <td>0</td>\n",
       "      <td>1</td>\n",
       "    </tr>\n",
       "    <tr>\n",
       "      <th>4</th>\n",
       "      <td>1</td>\n",
       "      <td>0</td>\n",
       "      <td>0</td>\n",
       "      <td>0</td>\n",
       "      <td>1</td>\n",
       "      <td>0</td>\n",
       "      <td>0</td>\n",
       "      <td>1</td>\n",
       "    </tr>\n",
       "  </tbody>\n",
       "</table>\n",
       "</div>"
      ],
      "text/plain": [
       "   Sex_male  Sex_female  Pclass_1  Pclass_2  Pclass_3  Embarked_C  Embarked_Q  Embarked_S\n",
       "0         1           0         0         0         1           0           0           1\n",
       "1         0           1         1         0         0           1           0           0\n",
       "2         0           1         0         0         1           0           0           1\n",
       "3         0           1         1         0         0           0           0           1\n",
       "4         1           0         0         0         1           0           0           1"
      ]
     },
     "execution_count": 16,
     "metadata": {},
     "output_type": "execute_result"
    }
   ],
   "source": [
    "added_columns = ['Sex_male', 'Sex_female',\n",
    "       'Pclass_1', 'Pclass_2', 'Pclass_3', 'Embarked_C', 'Embarked_Q', 'Embarked_S']\n",
    "df[added_columns].head()"
   ]
  },
  {
   "cell_type": "code",
   "execution_count": 17,
   "id": "8face9cb-1705-4932-890c-3849813ee43a",
   "metadata": {},
   "outputs": [],
   "source": [
    "from torch import tensor"
   ]
  },
  {
   "cell_type": "code",
   "execution_count": 18,
   "id": "f7a11ad8-7b68-4776-93e2-7bef13e394ee",
   "metadata": {},
   "outputs": [],
   "source": [
    "t_dep = tensor(df.Survived)"
   ]
  },
  {
   "cell_type": "code",
   "execution_count": 19,
   "id": "8e939cf4-21f4-49a0-8334-e2fb4fcf5d28",
   "metadata": {},
   "outputs": [],
   "source": [
    "indep_cols = ['Age', 'SibSp', 'Parch', 'LogFare'] + added_columns"
   ]
  },
  {
   "cell_type": "code",
   "execution_count": 20,
   "id": "98101fed-bf80-4994-a58c-a428ad2d95ed",
   "metadata": {},
   "outputs": [],
   "source": [
    "t_indep = tensor(df[indep_cols].values, dtype=torch.float)"
   ]
  },
  {
   "cell_type": "code",
   "execution_count": 21,
   "id": "cd03fe38-7b77-4918-8077-929222981fa3",
   "metadata": {},
   "outputs": [
    {
     "data": {
      "text/plain": [
       "torch.Size([891, 12])"
      ]
     },
     "execution_count": 21,
     "metadata": {},
     "output_type": "execute_result"
    }
   ],
   "source": [
    "t_indep.shape"
   ]
  },
  {
   "cell_type": "code",
   "execution_count": 22,
   "id": "4d6ffd83-32a9-4c51-992e-3cea338bd693",
   "metadata": {},
   "outputs": [
    {
     "data": {
      "text/plain": [
       "tensor([[22.0000,  1.0000,  0.0000,  2.1102,  1.0000,  0.0000,  0.0000,  0.0000,  1.0000,  0.0000,  0.0000,  1.0000],\n",
       "        [38.0000,  1.0000,  0.0000,  4.2806,  0.0000,  1.0000,  1.0000,  0.0000,  0.0000,  1.0000,  0.0000,  0.0000],\n",
       "        [26.0000,  0.0000,  0.0000,  2.1889,  0.0000,  1.0000,  0.0000,  0.0000,  1.0000,  0.0000,  0.0000,  1.0000],\n",
       "        [35.0000,  1.0000,  0.0000,  3.9908,  0.0000,  1.0000,  1.0000,  0.0000,  0.0000,  0.0000,  0.0000,  1.0000],\n",
       "        [35.0000,  0.0000,  0.0000,  2.2028,  1.0000,  0.0000,  0.0000,  0.0000,  1.0000,  0.0000,  0.0000,  1.0000],\n",
       "        [24.0000,  0.0000,  0.0000,  2.2469,  1.0000,  0.0000,  0.0000,  0.0000,  1.0000,  0.0000,  1.0000,  0.0000],\n",
       "        [54.0000,  0.0000,  0.0000,  3.9677,  1.0000,  0.0000,  1.0000,  0.0000,  0.0000,  0.0000,  0.0000,  1.0000],\n",
       "        ...,\n",
       "        [25.0000,  0.0000,  0.0000,  2.0857,  1.0000,  0.0000,  0.0000,  0.0000,  1.0000,  0.0000,  0.0000,  1.0000],\n",
       "        [39.0000,  0.0000,  5.0000,  3.4054,  0.0000,  1.0000,  0.0000,  0.0000,  1.0000,  0.0000,  1.0000,  0.0000],\n",
       "        [27.0000,  0.0000,  0.0000,  2.6391,  1.0000,  0.0000,  0.0000,  1.0000,  0.0000,  0.0000,  0.0000,  1.0000],\n",
       "        [19.0000,  0.0000,  0.0000,  3.4340,  0.0000,  1.0000,  1.0000,  0.0000,  0.0000,  0.0000,  0.0000,  1.0000],\n",
       "        [24.0000,  1.0000,  2.0000,  3.1966,  0.0000,  1.0000,  0.0000,  0.0000,  1.0000,  0.0000,  0.0000,  1.0000],\n",
       "        [26.0000,  0.0000,  0.0000,  3.4340,  1.0000,  0.0000,  1.0000,  0.0000,  0.0000,  1.0000,  0.0000,  0.0000],\n",
       "        [32.0000,  0.0000,  0.0000,  2.1691,  1.0000,  0.0000,  0.0000,  0.0000,  1.0000,  0.0000,  1.0000,  0.0000]])"
      ]
     },
     "execution_count": 22,
     "metadata": {},
     "output_type": "execute_result"
    }
   ],
   "source": [
    "t_indep"
   ]
  },
  {
   "cell_type": "code",
   "execution_count": 23,
   "id": "afb0d5a6-b5d4-4087-9d65-897fbc2c825e",
   "metadata": {},
   "outputs": [
    {
     "data": {
      "text/plain": [
       "tensor([-0.4629,  0.1386,  0.2409, -0.2262, -0.2632, -0.3147,  0.4876,  0.3136,  0.2799, -0.4392,  0.2103,  0.3625])"
      ]
     },
     "execution_count": 23,
     "metadata": {},
     "output_type": "execute_result"
    }
   ],
   "source": [
    "torch.manual_seed(442)\n",
    "\n",
    "n_coeff = t_indep.shape[1]\n",
    "\n",
    "coeffs = torch.rand(n_coeff) - 0.5\n",
    "\n",
    "coeffs"
   ]
  },
  {
   "cell_type": "code",
   "execution_count": 24,
   "id": "9011b088-b601-48f4-9214-b8d51d0f51cd",
   "metadata": {},
   "outputs": [
    {
     "data": {
      "text/plain": [
       "tensor([[22.0000,  1.0000,  0.0000,  2.1102,  1.0000,  0.0000,  0.0000,  0.0000,  1.0000,  0.0000,  0.0000,  1.0000],\n",
       "        [38.0000,  1.0000,  0.0000,  4.2806,  0.0000,  1.0000,  1.0000,  0.0000,  0.0000,  1.0000,  0.0000,  0.0000],\n",
       "        [26.0000,  0.0000,  0.0000,  2.1889,  0.0000,  1.0000,  0.0000,  0.0000,  1.0000,  0.0000,  0.0000,  1.0000],\n",
       "        [35.0000,  1.0000,  0.0000,  3.9908,  0.0000,  1.0000,  1.0000,  0.0000,  0.0000,  0.0000,  0.0000,  1.0000],\n",
       "        [35.0000,  0.0000,  0.0000,  2.2028,  1.0000,  0.0000,  0.0000,  0.0000,  1.0000,  0.0000,  0.0000,  1.0000],\n",
       "        [24.0000,  0.0000,  0.0000,  2.2469,  1.0000,  0.0000,  0.0000,  0.0000,  1.0000,  0.0000,  1.0000,  0.0000],\n",
       "        [54.0000,  0.0000,  0.0000,  3.9677,  1.0000,  0.0000,  1.0000,  0.0000,  0.0000,  0.0000,  0.0000,  1.0000],\n",
       "        ...,\n",
       "        [25.0000,  0.0000,  0.0000,  2.0857,  1.0000,  0.0000,  0.0000,  0.0000,  1.0000,  0.0000,  0.0000,  1.0000],\n",
       "        [39.0000,  0.0000,  5.0000,  3.4054,  0.0000,  1.0000,  0.0000,  0.0000,  1.0000,  0.0000,  1.0000,  0.0000],\n",
       "        [27.0000,  0.0000,  0.0000,  2.6391,  1.0000,  0.0000,  0.0000,  1.0000,  0.0000,  0.0000,  0.0000,  1.0000],\n",
       "        [19.0000,  0.0000,  0.0000,  3.4340,  0.0000,  1.0000,  1.0000,  0.0000,  0.0000,  0.0000,  0.0000,  1.0000],\n",
       "        [24.0000,  1.0000,  2.0000,  3.1966,  0.0000,  1.0000,  0.0000,  0.0000,  1.0000,  0.0000,  0.0000,  1.0000],\n",
       "        [26.0000,  0.0000,  0.0000,  3.4340,  1.0000,  0.0000,  1.0000,  0.0000,  0.0000,  1.0000,  0.0000,  0.0000],\n",
       "        [32.0000,  0.0000,  0.0000,  2.1691,  1.0000,  0.0000,  0.0000,  0.0000,  1.0000,  0.0000,  1.0000,  0.0000]])"
      ]
     },
     "execution_count": 24,
     "metadata": {},
     "output_type": "execute_result"
    }
   ],
   "source": [
    "t_indep"
   ]
  },
  {
   "cell_type": "code",
   "execution_count": 25,
   "id": "3138cd33-dd31-45d9-b506-89a5b84753ef",
   "metadata": {},
   "outputs": [],
   "source": [
    "vals, indices = t_indep.max(dim=0)\n",
    "t_indep = t_indep / vals"
   ]
  },
  {
   "cell_type": "code",
   "execution_count": 26,
   "id": "6a7e9448-c687-4393-a7e9-ab0be77d1112",
   "metadata": {},
   "outputs": [
    {
     "data": {
      "text/plain": [
       "tensor([[-0.1273,  0.0173,  0.0000, -0.0765, -0.2632, -0.0000,  0.0000,  0.0000,  0.2799, -0.0000,  0.0000,  0.3625],\n",
       "        [-0.2199,  0.0173,  0.0000, -0.1551, -0.0000, -0.3147,  0.4876,  0.0000,  0.0000, -0.4392,  0.0000,  0.0000],\n",
       "        [-0.1504,  0.0000,  0.0000, -0.0793, -0.0000, -0.3147,  0.0000,  0.0000,  0.2799, -0.0000,  0.0000,  0.3625],\n",
       "        [-0.2025,  0.0173,  0.0000, -0.1446, -0.0000, -0.3147,  0.4876,  0.0000,  0.0000, -0.0000,  0.0000,  0.3625],\n",
       "        [-0.2025,  0.0000,  0.0000, -0.0798, -0.2632, -0.0000,  0.0000,  0.0000,  0.2799, -0.0000,  0.0000,  0.3625],\n",
       "        [-0.1389,  0.0000,  0.0000, -0.0814, -0.2632, -0.0000,  0.0000,  0.0000,  0.2799, -0.0000,  0.2103,  0.0000],\n",
       "        [-0.3125,  0.0000,  0.0000, -0.1438, -0.2632, -0.0000,  0.4876,  0.0000,  0.0000, -0.0000,  0.0000,  0.3625],\n",
       "        ...,\n",
       "        [-0.1447,  0.0000,  0.0000, -0.0756, -0.2632, -0.0000,  0.0000,  0.0000,  0.2799, -0.0000,  0.0000,  0.3625],\n",
       "        [-0.2257,  0.0000,  0.2008, -0.1234, -0.0000, -0.3147,  0.0000,  0.0000,  0.2799, -0.0000,  0.2103,  0.0000],\n",
       "        [-0.1562,  0.0000,  0.0000, -0.0956, -0.2632, -0.0000,  0.0000,  0.3136,  0.0000, -0.0000,  0.0000,  0.3625],\n",
       "        [-0.1099,  0.0000,  0.0000, -0.1244, -0.0000, -0.3147,  0.4876,  0.0000,  0.0000, -0.0000,  0.0000,  0.3625],\n",
       "        [-0.1389,  0.0173,  0.0803, -0.1158, -0.0000, -0.3147,  0.0000,  0.0000,  0.2799, -0.0000,  0.0000,  0.3625],\n",
       "        [-0.1504,  0.0000,  0.0000, -0.1244, -0.2632, -0.0000,  0.4876,  0.0000,  0.0000, -0.4392,  0.0000,  0.0000],\n",
       "        [-0.1852,  0.0000,  0.0000, -0.0786, -0.2632, -0.0000,  0.0000,  0.0000,  0.2799, -0.0000,  0.2103,  0.0000]])"
      ]
     },
     "execution_count": 26,
     "metadata": {},
     "output_type": "execute_result"
    }
   ],
   "source": [
    "t_indep*coeffs"
   ]
  },
  {
   "cell_type": "code",
   "execution_count": 27,
   "id": "0d2865ac-24db-4d5d-9953-981e146205fc",
   "metadata": {},
   "outputs": [],
   "source": [
    "preds = (t_indep*coeffs).sum(axis=1)"
   ]
  },
  {
   "cell_type": "code",
   "execution_count": 28,
   "id": "105de47b-3920-40c6-b8bd-c2344e28c621",
   "metadata": {},
   "outputs": [
    {
     "data": {
      "text/plain": [
       "tensor([ 0.1927, -0.6239,  0.0979,  0.2056,  0.0968,  0.0066,  0.1306,  0.3476,  0.1613, -0.6285])"
      ]
     },
     "execution_count": 28,
     "metadata": {},
     "output_type": "execute_result"
    }
   ],
   "source": [
    "preds[:10]"
   ]
  },
  {
   "cell_type": "code",
   "execution_count": 29,
   "id": "37fbc006-deb9-4240-b593-e891c383e9a2",
   "metadata": {},
   "outputs": [
    {
     "data": {
      "text/plain": [
       "tensor(0.5382)"
      ]
     },
     "execution_count": 29,
     "metadata": {},
     "output_type": "execute_result"
    }
   ],
   "source": [
    "# Loss in first step\n",
    "loss = torch.abs(preds-t_dep).mean()\n",
    "loss"
   ]
  },
  {
   "cell_type": "code",
   "execution_count": 30,
   "id": "b2f711f9-4b25-4491-96ed-86d96439fb16",
   "metadata": {},
   "outputs": [],
   "source": [
    "def calc_preds(coeffs, indep): return (indep*coeffs).sum(axis=1)"
   ]
  },
  {
   "cell_type": "code",
   "execution_count": 31,
   "id": "2d90fcdd-f28f-4ac4-9e0a-4db5c3cb263a",
   "metadata": {},
   "outputs": [],
   "source": [
    "def calc_loss(coeffs, indep, t_dep): return torch.abs(calc_preds(coeffs,indep)-t_dep).mean()"
   ]
  },
  {
   "cell_type": "markdown",
   "id": "931ff285-5775-46e6-ac17-2e0a1e512212",
   "metadata": {},
   "source": [
    "# Doing one gradient descent step"
   ]
  },
  {
   "cell_type": "code",
   "execution_count": 32,
   "id": "4656a99d-5627-4640-83b1-8657887ddf79",
   "metadata": {},
   "outputs": [
    {
     "data": {
      "text/plain": [
       "tensor([-0.4629,  0.1386,  0.2409, -0.2262, -0.2632, -0.3147,  0.4876,  0.3136,  0.2799, -0.4392,  0.2103,  0.3625], requires_grad=True)"
      ]
     },
     "execution_count": 32,
     "metadata": {},
     "output_type": "execute_result"
    }
   ],
   "source": [
    "coeffs.requires_grad_()"
   ]
  },
  {
   "cell_type": "code",
   "execution_count": 33,
   "id": "87993ce8-3093-4837-91f2-f99a6b9b79ee",
   "metadata": {},
   "outputs": [
    {
     "data": {
      "text/plain": [
       "tensor(0.5382, grad_fn=<MeanBackward0>)"
      ]
     },
     "execution_count": 33,
     "metadata": {},
     "output_type": "execute_result"
    }
   ],
   "source": [
    "loss = calc_loss(coeffs, t_indep, t_dep)\n",
    "loss"
   ]
  },
  {
   "cell_type": "code",
   "execution_count": 34,
   "id": "700f68e0-0b16-42d9-8f89-eec8d7ef6ea8",
   "metadata": {},
   "outputs": [
    {
     "name": "stdout",
     "output_type": "stream",
     "text": [
      "tensor(0.5197)\n"
     ]
    }
   ],
   "source": [
    "loss.backward()\n",
    "with torch.no_grad():\n",
    "    coeffs.sub_(coeffs.grad * 0.1)\n",
    "    coeffs.grad.zero_()\n",
    "    print(calc_loss(coeffs, t_indep, t_dep))\n",
    "    "
   ]
  },
  {
   "cell_type": "markdown",
   "id": "a71e5e0f-c3c1-46eb-b6b2-eee3b4a78e90",
   "metadata": {},
   "source": [
    "# Training the linear Model"
   ]
  },
  {
   "cell_type": "code",
   "execution_count": 35,
   "id": "0a74f43c-b9bb-4a17-8052-79a2bef624b9",
   "metadata": {},
   "outputs": [],
   "source": [
    "from fastai.data.transforms import RandomSplitter"
   ]
  },
  {
   "cell_type": "code",
   "execution_count": 36,
   "id": "65c6731b-a6b7-42bd-85cc-755e8b38d98d",
   "metadata": {},
   "outputs": [],
   "source": [
    "trn_split, val_split = RandomSplitter(seed=42)(df)"
   ]
  },
  {
   "cell_type": "code",
   "execution_count": 37,
   "id": "62a39c3d-60f2-4fd7-8a15-f9b975f1d0c3",
   "metadata": {},
   "outputs": [
    {
     "data": {
      "text/plain": [
       "(#178) [303,778,531,385,134,476,691,443,386,128...]"
      ]
     },
     "execution_count": 37,
     "metadata": {},
     "output_type": "execute_result"
    }
   ],
   "source": [
    "val_split"
   ]
  },
  {
   "cell_type": "code",
   "execution_count": 38,
   "id": "86dcd97a-860e-48ad-9364-b97e7bf8e83e",
   "metadata": {},
   "outputs": [
    {
     "data": {
      "text/plain": [
       "(713, 178, 713, 178)"
      ]
     },
     "execution_count": 38,
     "metadata": {},
     "output_type": "execute_result"
    }
   ],
   "source": [
    "training_independent, validation_independent = t_indep[trn_split], t_indep[val_split]\n",
    "training_dependent, validation_dependent = t_dep[trn_split], t_dep[val_split]\n",
    "len(training_independent), len(validation_independent), len(training_dependent), len(validation_dependent)"
   ]
  },
  {
   "cell_type": "code",
   "execution_count": 39,
   "id": "c335dba7-ce28-47eb-a0b9-d4294f3c3794",
   "metadata": {},
   "outputs": [],
   "source": [
    "def update_coeffs(coeffs, lr): coeffs.sub_(coeffs.grad * lr)"
   ]
  },
  {
   "cell_type": "code",
   "execution_count": 40,
   "id": "e07b9218-5c5f-423d-b098-fa9a747250d1",
   "metadata": {},
   "outputs": [],
   "source": [
    "def one_epoch(coeffs, lr, t_indep, t_dep):\n",
    "    loss = calc_loss(coeffs, t_indep, t_dep)\n",
    "    loss.backward()\n",
    "    with torch.no_grad(): update_coeffs(coeffs, lr)\n",
    "    print(f\"{loss:.3f}\", end=\"; \")"
   ]
  },
  {
   "cell_type": "code",
   "execution_count": 41,
   "id": "1d6f6100-52f3-4dd2-8cb9-676faafb1fd9",
   "metadata": {},
   "outputs": [],
   "source": [
    "def init_coeff(n_coeff): return (torch.rand(n_coeff)-0.5).requires_grad_()"
   ]
  },
  {
   "cell_type": "code",
   "execution_count": 42,
   "id": "917b16c9-0451-4626-9d3d-6d309fade251",
   "metadata": {},
   "outputs": [],
   "source": [
    "def train_model(t_indep, t_dep, epochs=30, lr=0.01 ):\n",
    "    torch.manual_seed(442)\n",
    "    coeffs = init_coeff(n_coeff=t_indep.shape[1])\n",
    "    for i in range(epochs):\n",
    "         one_epoch(coeffs=coeffs, lr=lr, t_indep=t_indep, t_dep=t_dep)\n",
    "    return coeffs"
   ]
  },
  {
   "cell_type": "code",
   "execution_count": 43,
   "id": "dcfc3a10-e660-49b1-883f-c1aa5aca631a",
   "metadata": {},
   "outputs": [
    {
     "name": "stdout",
     "output_type": "stream",
     "text": [
      "0.538; 0.534; 0.527; 0.517; 0.504; 0.491; 0.480; 0.468; 0.450; 0.424; 0.398; 0.376; 0.356; 0.338; 0.320; 0.304; 0.292; 0.293; "
     ]
    }
   ],
   "source": [
    "coeffs = train_model(t_indep, t_dep, epochs=18, lr=0.02)"
   ]
  },
  {
   "cell_type": "code",
   "execution_count": 44,
   "id": "37799a91-a98a-480a-b3d0-8fd857a02b64",
   "metadata": {},
   "outputs": [
    {
     "data": {
      "text/plain": [
       "{'Age': tensor(-0.2323),\n",
       " 'SibSp': tensor(0.0999),\n",
       " 'Parch': tensor(0.2523),\n",
       " 'LogFare': tensor(0.1044),\n",
       " 'Sex_male': tensor(-0.4257),\n",
       " 'Sex_female': tensor(0.3447),\n",
       " 'Pclass_1': tensor(0.8585),\n",
       " 'Pclass_2': tensor(0.4427),\n",
       " 'Pclass_3': tensor(0.2769),\n",
       " 'Embarked_C': tensor(0.1696),\n",
       " 'Embarked_Q': tensor(0.3352),\n",
       " 'Embarked_S': tensor(0.1258)}"
      ]
     },
     "execution_count": 44,
     "metadata": {},
     "output_type": "execute_result"
    }
   ],
   "source": [
    "def show_coeffs(): return dict(zip(indep_cols, coeffs.requires_grad_(False)))\n",
    "show_coeffs()"
   ]
  },
  {
   "cell_type": "markdown",
   "id": "1793d79c-5bea-45e6-8ed6-7791cb774f64",
   "metadata": {},
   "source": [
    "# Measuring Accuracy"
   ]
  },
  {
   "cell_type": "code",
   "execution_count": 45,
   "id": "7b04b290-fb96-4f86-aeba-5ba5815a7ebc",
   "metadata": {},
   "outputs": [],
   "source": [
    "preds = calc_preds(coeffs, validation_independent)"
   ]
  },
  {
   "cell_type": "code",
   "execution_count": 46,
   "id": "faa232e3-be4c-4989-91f0-184f40cf3fda",
   "metadata": {},
   "outputs": [],
   "source": [
    "result = validation_dependent.bool() == (preds>0.5)"
   ]
  },
  {
   "cell_type": "code",
   "execution_count": 47,
   "id": "e158bb49-310e-42e5-8343-da86d7d8fe91",
   "metadata": {},
   "outputs": [
    {
     "data": {
      "text/plain": [
       "tensor([ True,  True,  True,  True,  True,  True,  True,  True,  True,  True, False, False, False,  True,  True, False])"
      ]
     },
     "execution_count": 47,
     "metadata": {},
     "output_type": "execute_result"
    }
   ],
   "source": [
    "result[:16]"
   ]
  },
  {
   "cell_type": "code",
   "execution_count": 48,
   "id": "d5dc071d-9eb0-4906-b51d-bd5691a9cb7a",
   "metadata": {},
   "outputs": [
    {
     "data": {
      "text/plain": [
       "tensor([1., 1., 1., 1., 1., 1., 1., 1., 1., 1., 0., 0., 0., 1., 1., 0., 1., 1., 1., 1., 1., 1., 1., 1., 1., 1., 1., 1., 1., 1., 1., 0., 1.,\n",
       "        1., 1., 0., 1., 1., 1., 0., 0., 1., 1., 1., 1., 0., 0., 1., 1., 1., 0., 1., 1., 1., 1., 1., 1., 1., 1., 1., 0., 1., 0., 1., 0., 0.,\n",
       "        1., 1., 1., 1., 1., 0., 1., 1., 0., 1., 1., 1., 1., 1., 0., 1., 1., 1., 1., 1., 0., 1., 1., 1., 1., 1., 1., 1., 1., 1., 1., 1., 1.,\n",
       "        1., 1., 1., 1., 1., 1., 0., 0., 1., 1., 1., 1., 0., 1., 1., 1., 1., 0., 1., 1., 1., 1., 1., 1., 1., 1., 0., 0., 1., 1., 1., 1., 1.,\n",
       "        1., 1., 1., 0., 1., 1., 1., 1., 1., 1., 1., 1., 0., 1., 1., 1., 1., 0., 0., 0., 1., 1., 0., 1., 1., 0., 0., 1., 1., 1., 1., 1., 1.,\n",
       "        1., 1., 1., 0., 1., 0., 1., 1., 1., 0., 1., 1., 0.])"
      ]
     },
     "execution_count": 48,
     "metadata": {},
     "output_type": "execute_result"
    }
   ],
   "source": [
    "result.float()"
   ]
  },
  {
   "cell_type": "code",
   "execution_count": 49,
   "id": "bd719037-91c8-44ae-9ee6-dc92ce8827d0",
   "metadata": {},
   "outputs": [],
   "source": [
    "def accuracy(coeffs, val_dep, val_indep): return (val_dep.bool() == (calc_preds(coeffs, val_indep)>0.5)).float().mean()"
   ]
  },
  {
   "cell_type": "code",
   "execution_count": 50,
   "id": "fa2914bd-5389-4b99-b44c-3bf251bbc6d1",
   "metadata": {},
   "outputs": [
    {
     "data": {
      "text/plain": [
       "tensor(0.7921)"
      ]
     },
     "execution_count": 50,
     "metadata": {},
     "output_type": "execute_result"
    }
   ],
   "source": [
    "accuracy(coeffs=coeffs, val_dep=validation_dependent, val_indep=validation_independent)"
   ]
  },
  {
   "cell_type": "markdown",
   "id": "e7df5447-5a60-4815-86bf-42cee6e90cc6",
   "metadata": {},
   "source": [
    "# Using Sigmoid"
   ]
  },
  {
   "cell_type": "code",
   "execution_count": 51,
   "id": "5914391d-f0ce-4763-a3ad-8f10f5da8930",
   "metadata": {},
   "outputs": [],
   "source": [
    "import sympy"
   ]
  },
  {
   "cell_type": "code",
   "execution_count": 52,
   "id": "8f36ee53-0d07-46e1-bf18-c0e3cb0560b6",
   "metadata": {},
   "outputs": [
    {
     "data": {
      "image/png": "[encoded data removed]",
      "text/plain": [
       "<Figure size 640x480 with 1 Axes>"
      ]
     },
     "metadata": {},
     "output_type": "display_data"
    },
    {
     "data": {
      "text/plain": [
       "<sympy.plotting.plot.Plot at 0x165f5c310>"
      ]
     },
     "execution_count": 52,
     "metadata": {},
     "output_type": "execute_result"
    }
   ],
   "source": [
    "sympy.plot(\"1/(1+exp(-x))\", xlim=(-10,10))"
   ]
  },
  {
   "cell_type": "code",
   "execution_count": 53,
   "id": "0a9db765-bd27-43c8-bb43-bd60a35cf708",
   "metadata": {},
   "outputs": [],
   "source": [
    "def calc_preds(coeffs, indep): return torch.sigmoid((indep*coeffs).sum(axis=1))"
   ]
  },
  {
   "cell_type": "code",
   "execution_count": 54,
   "id": "ce9c808c-63bd-4c9a-bcf7-90856e39c075",
   "metadata": {},
   "outputs": [
    {
     "name": "stdout",
     "output_type": "stream",
     "text": [
      "0.511; 0.352; 0.286; 0.237; 0.209; 0.202; 0.201; 0.202; 0.202; 0.201; 0.199; 0.196; 0.193; 0.191; 0.189; 0.189; 0.189; 0.189; 0.189; 0.189; 0.189; 0.189; 0.189; 0.189; 0.189; 0.189; 0.189; 0.189; 0.189; 0.189; "
     ]
    }
   ],
   "source": [
    "coeffs = train_model(t_indep, t_dep, epochs=30, lr=10)"
   ]
  },
  {
   "cell_type": "code",
   "execution_count": 55,
   "id": "a8ad697f-b697-414d-b812-2c3e40f5a0d6",
   "metadata": {},
   "outputs": [
    {
     "data": {
      "text/plain": [
       "tensor(0.8258)"
      ]
     },
     "execution_count": 55,
     "metadata": {},
     "output_type": "execute_result"
    }
   ],
   "source": [
    "accuracy(coeffs=coeffs, val_dep=validation_dependent, val_indep=validation_independent)"
   ]
  },
  {
   "cell_type": "code",
   "execution_count": 56,
   "id": "879eabf6-eaa1-41ca-908a-7f66da966f29",
   "metadata": {},
   "outputs": [
    {
     "data": {
      "text/plain": [
       "{'Age': tensor(-3.6124),\n",
       " 'SibSp': tensor(-5.1099),\n",
       " 'Parch': tensor(-2.4047),\n",
       " 'LogFare': tensor(3.3440),\n",
       " 'Sex_male': tensor(-44.0864),\n",
       " 'Sex_female': tensor(37.1375),\n",
       " 'Pclass_1': tensor(18.5334),\n",
       " 'Pclass_2': tensor(10.6545),\n",
       " 'Pclass_3': tensor(-34.4777),\n",
       " 'Embarked_C': tensor(9.1363),\n",
       " 'Embarked_Q': tensor(3.6720),\n",
       " 'Embarked_S': tensor(-19.0456)}"
      ]
     },
     "execution_count": 56,
     "metadata": {},
     "output_type": "execute_result"
    }
   ],
   "source": [
    "show_coeffs()"
   ]
  },
  {
   "cell_type": "markdown",
   "id": "6408f280-9bcc-4ed5-90db-2037b737f37a",
   "metadata": {},
   "source": [
    "# Final Result"
   ]
  },
  {
   "cell_type": "code",
   "execution_count": 109,
   "id": "3dca7860-6db1-4567-af04-75e2f192b02a",
   "metadata": {},
   "outputs": [],
   "source": [
    "test_df = pd.read_csv(path/'test.csv')"
   ]
  },
  {
   "cell_type": "code",
   "execution_count": 110,
   "id": "cc75cb03-3a79-43c8-a4fd-c726d25df001",
   "metadata": {},
   "outputs": [],
   "source": [
    "test_df['Fare'] = test_df.Fare.fillna(0)"
   ]
  },
  {
   "cell_type": "code",
   "execution_count": 111,
   "id": "d15b47e1-fa99-4a9f-b319-1dd9b87d3aff",
   "metadata": {},
   "outputs": [],
   "source": [
    "test_df.fillna(modes, inplace=True)"
   ]
  },
  {
   "cell_type": "code",
   "execution_count": 112,
   "id": "1fd663e5-c4d1-4d9d-8a23-150748a6a547",
   "metadata": {},
   "outputs": [],
   "source": [
    "test_df['LogFare'] = np.log(test_df['Fare']+1)"
   ]
  },
  {
   "cell_type": "code",
   "execution_count": 113,
   "id": "a56e1383-7fe1-4508-b522-21b414d25c3a",
   "metadata": {},
   "outputs": [],
   "source": [
    "test_df = pd.get_dummies(test_df, columns=[\"Sex\", \"Pclass\", \"Embarked\"])"
   ]
  },
  {
   "cell_type": "code",
   "execution_count": 114,
   "id": "7440ed19-6c35-4471-b718-0f13231932db",
   "metadata": {},
   "outputs": [],
   "source": [
    "test_indep = tensor(test_df[indep_cols].values, dtype=torch.float)"
   ]
  },
  {
   "cell_type": "code",
   "execution_count": 115,
   "id": "d0dce527-872f-4fb8-809d-20daa95da0f4",
   "metadata": {},
   "outputs": [],
   "source": [
    "test_indep = test_indep / vals"
   ]
  },
  {
   "cell_type": "code",
   "execution_count": 124,
   "id": "260e7693-6016-41d9-a7ec-3592f0c15a0c",
   "metadata": {},
   "outputs": [],
   "source": [
    "test_df['Survived'] = (calc_preds(coeffs, test_indep)>0.5).int()"
   ]
  },
  {
   "cell_type": "code",
   "execution_count": 125,
   "id": "d89a1789-fa80-49ec-adb3-fdd6db627d85",
   "metadata": {},
   "outputs": [],
   "source": [
    "sub_df = test_df[['PassengerId', 'Survived']]"
   ]
  },
  {
   "cell_type": "code",
   "execution_count": 126,
   "id": "e3135d14-a61a-4608-9c89-2b3d414fa02c",
   "metadata": {},
   "outputs": [],
   "source": [
    "sub_df.to_csv('Submit.csv', index=False)"
   ]
  },
  {
   "cell_type": "code",
   "execution_count": 127,
   "id": "d7442441-fd61-412f-a3f7-a53de486eca7",
   "metadata": {},
   "outputs": [
    {
     "name": "stdout",
     "output_type": "stream",
     "text": [
      "PassengerId,Survived\n",
      "892,0\n",
      "893,0\n",
      "894,0\n",
      "895,0\n",
      "896,0\n",
      "897,0\n",
      "898,0\n",
      "899,0\n",
      "900,1\n"
     ]
    }
   ],
   "source": [
    "!head Submit.csv"
   ]
  },
  {
   "cell_type": "markdown",
   "id": "7799e261-4b76-441a-b63a-75576b6b42b3",
   "metadata": {},
   "source": [
    "# Using Matrix Multiplication"
   ]
  },
  {
   "cell_type": "code",
   "execution_count": 68,
   "id": "957eff12-a94a-4809-a6ef-579821d7f174",
   "metadata": {},
   "outputs": [
    {
     "data": {
      "text/plain": [
       "tensor([  51.7689,  -74.8143,  -69.3822,  -50.9805,  -52.1924,  -52.9953,   12.6445,   28.8961,  -99.5770,   11.3612,  -97.8819,  -70.0573,\n",
       "         -97.4925,    6.4182,  -98.0657,  -44.8539,  -45.7570,   28.9827,  -52.4726,  -16.5691,  -97.5224,  -45.3506,   64.5343,   27.3835,\n",
       "         -97.3953,  -74.8866,  -16.1331,  -45.6215,  -97.1620,    6.4104,   28.5461,  -19.0304,  -97.2966,  -97.8067,   51.4980,  -17.9710,\n",
       "         -44.8156,   66.0022,  -97.5132,  -16.9806,  -52.0268,  -97.5132,  -53.1613,   65.6918,  -97.3325,  -18.2553,  -96.6128,  -98.0320,\n",
       "         -74.8649,  -16.2485,  -22.7283,  -99.9382,  -99.5092,  -97.6211,  -52.3429,  -52.6138,  -74.8136,  -98.3703,  -97.3777,  -97.3754,\n",
       "         -15.9717,  -97.8983,  -46.3711,  -97.3851,   27.8868,  -43.6113,  -52.1472,  -97.6428,  -76.2357,   28.1473,  -97.6127,   11.4046,\n",
       "         -52.5687,  -97.4335,  -43.9179,  -97.1685,  -97.5132,  -44.5363,  -51.9214,  -53.1142,  -52.2244,   64.7663,  -97.4772,  -97.5628,\n",
       "          27.7973,  -24.8547,  -15.3501,   37.1225,   56.7500,  -52.1021,  -97.8562,  -97.5132,   65.9585,  -69.6531,   11.6961,  -24.5119,\n",
       "         -52.7887,    5.6791,    6.5007,  -74.6528,  -98.2935,    6.4104,  -97.8836,  -97.7933,  -44.4615,  -52.9600,  -97.7045,   27.8772,\n",
       "         -15.7610,  -98.4407,   28.2207,  -16.8467,  -43.8424,   59.6311,  -97.5132,   63.7814,  -18.4836,  -74.8136,  -98.3502,   65.1040,\n",
       "         -99.3022,  -17.8162,  -74.8136,  -18.1046,  -69.3824,  -44.0682,  -16.3509,  -16.3913,  -97.0723,  -53.3371,   38.2988,  -97.8109,\n",
       "          28.2480,   28.6929,   65.7606,  -97.2874,  -53.7088,  -97.6602,  -24.5607,   28.8222,  -52.4181,   64.1634,  -98.5292,  -75.1748,\n",
       "         -18.0312,   35.4827,  -98.1102,   11.5992,   37.4839,   10.8304,  -16.8984,    5.6088,   29.1068,  -76.3844,  -75.5448, -102.3243,\n",
       "         -97.5132,  -16.6514,  -52.5988,  -97.2249,   65.8250,  -24.4448,  -97.7017,  -45.0948,   64.7462,   37.1538,   28.4180,   28.2639,\n",
       "         -46.7427,  -45.2336,  -17.3915,  -96.9991,   37.2508,  -97.4335,  -98.4237,   36.4897,  -43.8338,  -97.5407])"
      ]
     },
     "execution_count": 68,
     "metadata": {},
     "output_type": "execute_result"
    }
   ],
   "source": [
    "(validation_independent * coeffs).sum(axis=1)"
   ]
  },
  {
   "cell_type": "code",
   "execution_count": 69,
   "id": "ea12b80c-92b7-4816-bfd3-85ce1be3bca2",
   "metadata": {},
   "outputs": [
    {
     "data": {
      "text/plain": [
       "tensor([ -3.6124,  -5.1099,  -2.4047,   3.3440, -44.0864,  37.1375,  18.5334,  10.6545, -34.4777,   9.1363,   3.6720, -19.0456])"
      ]
     },
     "execution_count": 69,
     "metadata": {},
     "output_type": "execute_result"
    }
   ],
   "source": [
    "coeffs"
   ]
  },
  {
   "cell_type": "code",
   "execution_count": 70,
   "id": "cfbd0503-7b46-492c-b9d6-a5841c0f11af",
   "metadata": {},
   "outputs": [
    {
     "data": {
      "text/plain": [
       "tensor([  51.7689,  -74.8143,  -69.3822,  -50.9805,  -52.1924,  -52.9953,   12.6445,   28.8961,  -99.5770,   11.3612,  -97.8819,  -70.0573,\n",
       "         -97.4925,    6.4182,  -98.0657,  -44.8539,  -45.7570,   28.9827,  -52.4726,  -16.5691,  -97.5224,  -45.3506,   64.5343,   27.3836,\n",
       "         -97.3953,  -74.8866,  -16.1331,  -45.6215,  -97.1620,    6.4104,   28.5461,  -19.0304,  -97.2966,  -97.8067,   51.4980,  -17.9710,\n",
       "         -44.8156,   66.0022,  -97.5132,  -16.9806,  -52.0268,  -97.5132,  -53.1613,   65.6918,  -97.3326,  -18.2553,  -96.6128,  -98.0320,\n",
       "         -74.8649,  -16.2485,  -22.7283,  -99.9382,  -99.5092,  -97.6211,  -52.3429,  -52.6138,  -74.8136,  -98.3703,  -97.3777,  -97.3754,\n",
       "         -15.9717,  -97.8983,  -46.3711,  -97.3852,   27.8868,  -43.6113,  -52.1472,  -97.6428,  -76.2357,   28.1473,  -97.6127,   11.4046,\n",
       "         -52.5687,  -97.4335,  -43.9179,  -97.1685,  -97.5132,  -44.5363,  -51.9214,  -53.1142,  -52.2244,   64.7663,  -97.4772,  -97.5628,\n",
       "          27.7973,  -24.8547,  -15.3501,   37.1225,   56.7500,  -52.1020,  -97.8562,  -97.5132,   65.9585,  -69.6531,   11.6961,  -24.5119,\n",
       "         -52.7887,    5.6791,    6.5007,  -74.6528,  -98.2935,    6.4104,  -97.8836,  -97.7933,  -44.4615,  -52.9600,  -97.7045,   27.8772,\n",
       "         -15.7610,  -98.4407,   28.2207,  -16.8467,  -43.8424,   59.6311,  -97.5132,   63.7814,  -18.4836,  -74.8136,  -98.3502,   65.1040,\n",
       "         -99.3022,  -17.8162,  -74.8136,  -18.1046,  -69.3824,  -44.0682,  -16.3509,  -16.3913,  -97.0723,  -53.3371,   38.2988,  -97.8110,\n",
       "          28.2480,   28.6929,   65.7606,  -97.2874,  -53.7088,  -97.6602,  -24.5607,   28.8222,  -52.4181,   64.1634,  -98.5292,  -75.1748,\n",
       "         -18.0312,   35.4827,  -98.1103,   11.5992,   37.4839,   10.8304,  -16.8984,    5.6088,   29.1068,  -76.3844,  -75.5448, -102.3243,\n",
       "         -97.5132,  -16.6514,  -52.5988,  -97.2249,   65.8250,  -24.4448,  -97.7017,  -45.0948,   64.7462,   37.1538,   28.4180,   28.2639,\n",
       "         -46.7427,  -45.2336,  -17.3915,  -96.9991,   37.2509,  -97.4335,  -98.4237,   36.4897,  -43.8338,  -97.5407])"
      ]
     },
     "execution_count": 70,
     "metadata": {},
     "output_type": "execute_result"
    }
   ],
   "source": [
    "validation_independent@coeffs"
   ]
  },
  {
   "cell_type": "code",
   "execution_count": 71,
   "id": "86a954cc-0cc7-4bf6-bbb5-8615422f312e",
   "metadata": {},
   "outputs": [],
   "source": [
    "def calc_preds(coeffs, indep): return torch.sigmoid(indep@coeffs)"
   ]
  },
  {
   "cell_type": "code",
   "execution_count": 72,
   "id": "3876c4ca-e96b-47ca-b59b-115f1bec9810",
   "metadata": {},
   "outputs": [],
   "source": [
    "def init_coeff(n_coeff): return (torch.rand(n_coeff, 1)*0.1).requires_grad_()\n",
    "# def init_coeffs(n_coeff): return (torch.rand(n_coeff, 1)*0.1).requires_grad_()"
   ]
  },
  {
   "cell_type": "code",
   "execution_count": 73,
   "id": "d306ba4b-1612-4c54-a2e7-7d038db3b72e",
   "metadata": {},
   "outputs": [],
   "source": [
    "# def init_coeff(n_coeff): return (torch.rand(n_coeff,1)-0.5).requires_grad_()"
   ]
  },
  {
   "cell_type": "code",
   "execution_count": 74,
   "id": "f5a85092-c868-4087-b97c-5dfe9ec9367c",
   "metadata": {},
   "outputs": [],
   "source": [
    "trn_dep = training_dependent[:, None]\n",
    "val_dep = validation_dependent[:, None]"
   ]
  },
  {
   "cell_type": "code",
   "execution_count": 75,
   "id": "9ac6f7d1-482a-477d-a34f-16911977f3f0",
   "metadata": {},
   "outputs": [
    {
     "name": "stdout",
     "output_type": "stream",
     "text": [
      "0.512; 0.323; 0.323; 0.315; 0.276; 0.262; 0.222; 0.215; 0.214; 0.214; 0.213; 0.211; 0.209; 0.208; 0.208; 0.208; 0.208; 0.208; 0.208; 0.207; 0.207; 0.206; 0.204; 0.197; 0.192; 0.192; 0.192; 0.192; 0.192; 0.192; "
     ]
    }
   ],
   "source": [
    "coeffs = train_model(lr=100, t_indep=training_independent, t_dep=trn_dep)"
   ]
  },
  {
   "cell_type": "code",
   "execution_count": 76,
   "id": "97465c52-bb99-4a2a-b4f0-d265646a22f2",
   "metadata": {},
   "outputs": [
    {
     "data": {
      "text/plain": [
       "tensor(0.8258)"
      ]
     },
     "execution_count": 76,
     "metadata": {},
     "output_type": "execute_result"
    }
   ],
   "source": [
    "accuracy(coeffs=coeffs, val_indep=validation_independent, val_dep=val_dep)"
   ]
  },
  {
   "cell_type": "code",
   "execution_count": 77,
   "id": "178505d7-3d2e-4720-9d6b-7f4ec99d93c5",
   "metadata": {},
   "outputs": [
    {
     "data": {
      "text/plain": [
       "torch.Size([12, 1])"
      ]
     },
     "execution_count": 77,
     "metadata": {},
     "output_type": "execute_result"
    }
   ],
   "source": [
    "coeffs.shape"
   ]
  },
  {
   "cell_type": "markdown",
   "id": "a0c0e014-d7f0-4494-a559-0d6c83f76ba9",
   "metadata": {},
   "source": [
    "# Neural network"
   ]
  },
  {
   "cell_type": "code",
   "execution_count": 78,
   "id": "898fcf0c-6a28-45c4-985c-339af1e1106d",
   "metadata": {},
   "outputs": [
    {
     "data": {
      "text/plain": [
       "\u001b[0;31mSignature:\u001b[0m \u001b[0minit_coeff\u001b[0m\u001b[0;34m(\u001b[0m\u001b[0mn_coeff\u001b[0m\u001b[0;34m)\u001b[0m\u001b[0;34m\u001b[0m\u001b[0;34m\u001b[0m\u001b[0m\n",
       "\u001b[0;31mDocstring:\u001b[0m <no docstring>\n",
       "\u001b[0;31mSource:\u001b[0m    \u001b[0;32mdef\u001b[0m \u001b[0minit_coeff\u001b[0m\u001b[0;34m(\u001b[0m\u001b[0mn_coeff\u001b[0m\u001b[0;34m)\u001b[0m\u001b[0;34m:\u001b[0m \u001b[0;32mreturn\u001b[0m \u001b[0;34m(\u001b[0m\u001b[0mtorch\u001b[0m\u001b[0;34m.\u001b[0m\u001b[0mrand\u001b[0m\u001b[0;34m(\u001b[0m\u001b[0mn_coeff\u001b[0m\u001b[0;34m,\u001b[0m \u001b[0;36m1\u001b[0m\u001b[0;34m)\u001b[0m\u001b[0;34m*\u001b[0m\u001b[0;36m0.1\u001b[0m\u001b[0;34m)\u001b[0m\u001b[0;34m.\u001b[0m\u001b[0mrequires_grad_\u001b[0m\u001b[0;34m(\u001b[0m\u001b[0;34m)\u001b[0m\u001b[0;34m\u001b[0m\u001b[0;34m\u001b[0m\u001b[0m\n",
       "\u001b[0;31mFile:\u001b[0m      /var/folders/c3/pmnhjglx38j8dfn82nz6zl7r0000gn/T/ipykernel_14851/3726120029.py\n",
       "\u001b[0;31mType:\u001b[0m      function\n"
      ]
     },
     "metadata": {},
     "output_type": "display_data"
    }
   ],
   "source": [
    "init_coeff??"
   ]
  },
  {
   "cell_type": "code",
   "execution_count": 95,
   "id": "b347e7ed-07aa-4b54-a3a8-b8d21188ff63",
   "metadata": {},
   "outputs": [],
   "source": [
    "def init_coeff(n_coeff, n_hidden=100):\n",
    "    layer1 = (torch.rand(n_coeff, n_hidden)*0.1)/n_hidden\n",
    "    layer2 = torch.rand(n_hidden, 1) - 0.3\n",
    "    const = torch.rand(1)[0]\n",
    "    return layer1.requires_grad_(), layer2.requires_grad_(), const.requires_grad_()"
   ]
  },
  {
   "cell_type": "code",
   "execution_count": 80,
   "id": "054f6085-34c1-4e7f-9e31-5f0d073777be",
   "metadata": {},
   "outputs": [],
   "source": [
    "import torch.nn.functional as F"
   ]
  },
  {
   "cell_type": "code",
   "execution_count": 81,
   "id": "d0b6c226-d922-4da4-bd6f-c646c408dcce",
   "metadata": {},
   "outputs": [
    {
     "data": {
      "text/plain": [
       "\u001b[0;31mSignature:\u001b[0m \u001b[0mcalc_preds\u001b[0m\u001b[0;34m(\u001b[0m\u001b[0mcoeffs\u001b[0m\u001b[0;34m,\u001b[0m \u001b[0mindep\u001b[0m\u001b[0;34m)\u001b[0m\u001b[0;34m\u001b[0m\u001b[0;34m\u001b[0m\u001b[0m\n",
       "\u001b[0;31mDocstring:\u001b[0m <no docstring>\n",
       "\u001b[0;31mSource:\u001b[0m    \u001b[0;32mdef\u001b[0m \u001b[0mcalc_preds\u001b[0m\u001b[0;34m(\u001b[0m\u001b[0mcoeffs\u001b[0m\u001b[0;34m,\u001b[0m \u001b[0mindep\u001b[0m\u001b[0;34m)\u001b[0m\u001b[0;34m:\u001b[0m \u001b[0;32mreturn\u001b[0m \u001b[0mtorch\u001b[0m\u001b[0;34m.\u001b[0m\u001b[0msigmoid\u001b[0m\u001b[0;34m(\u001b[0m\u001b[0mindep\u001b[0m\u001b[0;34m@\u001b[0m\u001b[0mcoeffs\u001b[0m\u001b[0;34m)\u001b[0m\u001b[0;34m\u001b[0m\u001b[0;34m\u001b[0m\u001b[0m\n",
       "\u001b[0;31mFile:\u001b[0m      /var/folders/c3/pmnhjglx38j8dfn82nz6zl7r0000gn/T/ipykernel_14851/1574366332.py\n",
       "\u001b[0;31mType:\u001b[0m      function\n"
      ]
     },
     "metadata": {},
     "output_type": "display_data"
    }
   ],
   "source": [
    "calc_preds??"
   ]
  },
  {
   "cell_type": "code",
   "execution_count": 82,
   "id": "9dd11cc3-d1a1-424c-bc6c-24e9857f9729",
   "metadata": {},
   "outputs": [],
   "source": [
    "def calc_preds(coeffs, indep):\n",
    "    l1, l2, const = coeffs\n",
    "    res = F.relu(indep@l1)\n",
    "    res = res@l2 + const\n",
    "    return torch.sigmoid(res)"
   ]
  },
  {
   "cell_type": "code",
   "execution_count": 83,
   "id": "12236700-0012-4fd9-8c8f-a021b4349849",
   "metadata": {},
   "outputs": [
    {
     "data": {
      "text/plain": [
       "\u001b[0;31mSignature:\u001b[0m \u001b[0mupdate_coeffs\u001b[0m\u001b[0;34m(\u001b[0m\u001b[0mcoeffs\u001b[0m\u001b[0;34m,\u001b[0m \u001b[0mlr\u001b[0m\u001b[0;34m)\u001b[0m\u001b[0;34m\u001b[0m\u001b[0;34m\u001b[0m\u001b[0m\n",
       "\u001b[0;31mDocstring:\u001b[0m <no docstring>\n",
       "\u001b[0;31mSource:\u001b[0m    \u001b[0;32mdef\u001b[0m \u001b[0mupdate_coeffs\u001b[0m\u001b[0;34m(\u001b[0m\u001b[0mcoeffs\u001b[0m\u001b[0;34m,\u001b[0m \u001b[0mlr\u001b[0m\u001b[0;34m)\u001b[0m\u001b[0;34m:\u001b[0m \u001b[0mcoeffs\u001b[0m\u001b[0;34m.\u001b[0m\u001b[0msub_\u001b[0m\u001b[0;34m(\u001b[0m\u001b[0mcoeffs\u001b[0m\u001b[0;34m.\u001b[0m\u001b[0mgrad\u001b[0m \u001b[0;34m*\u001b[0m \u001b[0mlr\u001b[0m\u001b[0;34m)\u001b[0m\u001b[0;34m\u001b[0m\u001b[0;34m\u001b[0m\u001b[0m\n",
       "\u001b[0;31mFile:\u001b[0m      /var/folders/c3/pmnhjglx38j8dfn82nz6zl7r0000gn/T/ipykernel_14851/1244173057.py\n",
       "\u001b[0;31mType:\u001b[0m      function\n"
      ]
     },
     "metadata": {},
     "output_type": "display_data"
    }
   ],
   "source": [
    "update_coeffs??"
   ]
  },
  {
   "cell_type": "code",
   "execution_count": 84,
   "id": "9eeb3f5b-323f-4199-84e1-add1a43c7681",
   "metadata": {},
   "outputs": [],
   "source": [
    "def update_coeffs(coeffs, lr):\n",
    "    for layer in coeffs:\n",
    "        layer.sub_(layer.grad*lr)\n",
    "        layer.grad.zero_()"
   ]
  },
  {
   "cell_type": "code",
   "execution_count": 107,
   "id": "f042ac8f-dbb2-475a-b524-a207bcb40c9d",
   "metadata": {},
   "outputs": [
    {
     "name": "stdout",
     "output_type": "stream",
     "text": [
      "0.547; 0.298; 0.273; 0.248; 0.232; 0.227; 0.235; 0.226; 0.214; 0.207; 0.204; 0.202; 0.201; 0.200; 0.200; 0.199; 0.198; 0.198; 0.197; 0.197; 0.197; 0.196; 0.196; 0.196; 0.196; 0.196; 0.195; 0.195; 0.195; 0.195; 0.195; 0.195; 0.195; 0.195; 0.195; 0.194; 0.194; 0.194; 0.194; 0.194; 0.194; 0.194; 0.194; 0.194; 0.194; 0.194; 0.194; 0.194; 0.194; 0.194; 0.194; 0.194; 0.194; 0.194; 0.194; 0.194; 0.194; 0.193; 0.193; 0.193; 0.193; 0.193; 0.193; 0.193; 0.193; 0.193; 0.193; 0.193; 0.193; 0.193; 0.193; 0.193; 0.193; 0.193; 0.193; 0.193; 0.193; 0.193; 0.193; 0.193; 0.193; 0.193; 0.193; 0.193; 0.193; 0.193; 0.193; 0.193; 0.193; 0.193; 0.193; 0.193; 0.193; 0.193; 0.193; 0.193; 0.193; 0.193; 0.193; 0.193; 0.193; 0.193; 0.193; 0.193; 0.193; 0.193; 0.193; 0.193; 0.193; 0.193; 0.193; 0.193; 0.193; 0.193; 0.193; 0.193; 0.193; 0.193; 0.193; 0.193; 0.193; 0.193; 0.193; 0.193; 0.193; 0.193; 0.193; 0.193; 0.193; 0.193; 0.193; 0.193; 0.193; 0.193; 0.193; 0.193; 0.193; 0.193; 0.193; 0.193; 0.192; 0.192; 0.192; 0.192; 0.192; 0.192; 0.192; 0.192; 0.192; 0.192; 0.192; 0.192; 0.192; 0.192; 0.192; 0.192; 0.192; 0.192; 0.192; 0.192; 0.192; 0.192; 0.192; 0.192; 0.192; 0.192; 0.192; 0.192; 0.192; 0.192; 0.192; 0.192; 0.192; 0.192; 0.192; 0.192; 0.192; 0.191; 0.191; 0.191; 0.191; 0.191; 0.191; 0.191; 0.191; 0.191; 0.191; 0.191; 0.191; 0.191; 0.191; 0.191; 0.191; 0.191; 0.191; 0.191; 0.191; 0.191; 0.191; 0.191; 0.191; 0.191; 0.191; 0.191; 0.191; 0.191; 0.191; 0.191; 0.191; 0.191; 0.191; 0.191; 0.191; 0.191; 0.191; 0.191; 0.191; 0.191; 0.191; 0.191; 0.191; 0.191; 0.191; 0.191; 0.191; 0.191; 0.191; 0.191; 0.191; 0.191; 0.191; 0.191; 0.191; 0.191; 0.191; 0.191; 0.191; 0.191; 0.191; 0.191; 0.191; 0.191; 0.191; 0.191; 0.191; 0.191; 0.191; 0.191; 0.191; 0.191; 0.191; 0.191; 0.191; 0.191; 0.191; 0.191; 0.191; 0.191; 0.191; 0.191; 0.191; 0.191; 0.191; 0.191; 0.191; 0.191; 0.191; 0.191; 0.191; 0.191; 0.191; 0.191; 0.191; 0.191; 0.191; 0.191; 0.191; 0.191; 0.191; 0.191; 0.191; 0.191; 0.191; 0.191; 0.191; 0.191; 0.191; 0.191; 0.191; 0.191; 0.191; 0.191; 0.191; 0.191; 0.191; 0.191; 0.191; 0.191; 0.191; 0.191; 0.191; 0.191; 0.191; 0.191; 0.191; 0.191; 0.191; 0.191; 0.191; 0.191; 0.191; 0.191; 0.191; 0.191; 0.191; 0.191; 0.191; 0.191; 0.191; 0.191; 0.191; 0.191; 0.191; 0.191; 0.191; 0.191; 0.191; 0.191; 0.191; 0.191; 0.191; 0.191; 0.191; 0.191; 0.191; 0.191; 0.191; 0.191; 0.190; 0.190; 0.190; 0.190; 0.190; 0.190; 0.190; 0.190; 0.190; 0.190; 0.190; 0.190; 0.190; 0.190; 0.190; 0.190; 0.190; 0.190; 0.190; 0.190; 0.190; 0.190; 0.190; 0.190; 0.190; 0.190; 0.190; 0.190; 0.190; 0.190; 0.190; 0.190; 0.190; 0.190; 0.190; 0.190; 0.190; 0.190; 0.190; 0.190; 0.190; 0.190; 0.190; 0.190; 0.190; 0.190; 0.190; 0.190; 0.190; 0.190; 0.190; 0.190; 0.190; 0.190; 0.190; 0.190; 0.190; 0.190; 0.190; 0.190; 0.190; 0.190; 0.190; 0.190; 0.190; 0.190; 0.190; 0.190; 0.190; 0.190; 0.190; 0.190; 0.190; 0.190; 0.190; 0.190; 0.189; 0.189; 0.189; 0.189; 0.189; 0.189; 0.189; 0.189; 0.189; 0.189; 0.189; 0.189; 0.189; 0.189; 0.189; 0.189; 0.189; 0.189; 0.189; 0.189; 0.189; 0.189; 0.189; 0.189; 0.189; 0.189; 0.189; 0.189; 0.189; 0.189; 0.189; 0.189; 0.189; 0.189; 0.189; 0.189; 0.189; 0.189; 0.189; 0.189; 0.189; 0.189; 0.189; 0.189; 0.189; 0.189; 0.189; 0.189; 0.189; 0.189; 0.189; 0.189; 0.189; 0.189; 0.189; 0.189; 0.189; 0.188; 0.188; 0.188; 0.188; 0.188; 0.188; 0.188; 0.188; 0.188; 0.188; 0.188; 0.188; 0.188; 0.188; 0.188; 0.188; 0.187; 0.187; 0.187; 0.187; 0.187; 0.187; 0.187; 0.187; 0.187; 0.187; 0.187; 0.187; 0.188; 0.188; 0.188; 0.188; 0.187; 0.187; 0.187; 0.187; 0.187; 0.187; 0.187; 0.187; 0.188; 0.187; 0.187; 0.187; 0.187; 0.187; 0.187; 0.187; 0.187; 0.187; 0.187; 0.187; 0.187; 0.187; 0.187; 0.187; 0.187; 0.187; 0.187; 0.187; 0.187; 0.187; 0.187; 0.187; 0.187; 0.187; 0.187; 0.187; 0.187; 0.187; 0.187; 0.187; 0.187; 0.187; 0.187; 0.187; 0.187; 0.187; 0.187; 0.187; 0.187; 0.187; 0.187; 0.187; 0.187; 0.187; 0.187; 0.187; 0.187; 0.187; 0.187; 0.187; 0.187; 0.187; 0.187; 0.187; 0.187; 0.187; 0.187; 0.187; 0.187; 0.187; 0.187; 0.187; 0.187; 0.187; 0.187; 0.187; 0.187; 0.187; 0.187; 0.187; 0.187; 0.187; 0.187; 0.187; 0.187; 0.187; 0.187; 0.187; 0.187; 0.187; 0.187; 0.187; 0.187; 0.186; 0.187; 0.186; 0.187; 0.186; 0.187; 0.186; 0.187; 0.186; 0.187; 0.186; 0.187; 0.186; 0.187; 0.186; 0.187; 0.186; 0.187; 0.186; 0.186; 0.186; 0.186; 0.186; 0.186; 0.186; 0.186; 0.186; 0.186; 0.186; 0.186; 0.186; 0.186; 0.186; 0.186; 0.186; 0.186; 0.186; 0.186; 0.186; 0.186; 0.186; 0.186; 0.186; 0.186; 0.186; 0.186; 0.186; 0.186; 0.186; 0.186; 0.186; 0.186; 0.186; 0.186; 0.186; 0.186; 0.186; 0.186; 0.186; 0.186; 0.186; 0.186; 0.186; 0.186; 0.186; 0.186; 0.186; 0.186; 0.186; 0.186; 0.186; 0.186; 0.186; 0.186; 0.186; 0.186; 0.186; 0.186; 0.186; 0.186; 0.186; 0.186; 0.186; 0.186; 0.186; 0.186; 0.186; 0.186; 0.186; 0.186; 0.186; 0.186; 0.186; 0.186; 0.186; 0.186; 0.186; 0.186; 0.186; 0.186; 0.186; 0.186; 0.186; 0.186; 0.186; 0.186; 0.186; 0.186; 0.186; 0.186; 0.186; 0.186; 0.186; 0.186; 0.186; 0.186; 0.186; 0.186; 0.186; 0.186; 0.186; 0.186; 0.186; 0.186; 0.186; 0.186; 0.186; 0.186; 0.186; 0.186; 0.186; 0.186; 0.186; 0.186; 0.186; 0.186; 0.186; 0.186; 0.186; 0.186; 0.186; 0.186; 0.186; 0.186; 0.186; 0.186; 0.186; 0.186; 0.186; 0.186; 0.186; 0.186; 0.186; 0.186; 0.186; 0.186; 0.186; 0.186; 0.186; 0.186; 0.186; 0.186; 0.186; 0.186; 0.186; 0.186; 0.186; 0.186; 0.186; 0.186; 0.186; 0.186; 0.186; 0.186; 0.186; 0.186; 0.186; 0.186; 0.186; 0.186; 0.186; 0.186; 0.186; 0.186; 0.186; 0.186; 0.186; 0.186; 0.186; 0.186; 0.186; 0.186; 0.186; 0.186; 0.186; 0.185; 0.186; 0.185; 0.186; 0.185; 0.186; 0.185; 0.186; 0.185; 0.186; 0.185; 0.186; 0.185; 0.186; 0.185; 0.186; 0.185; 0.186; 0.185; 0.186; 0.185; 0.186; 0.185; 0.186; 0.185; 0.186; 0.185; 0.186; 0.185; 0.186; 0.185; 0.186; 0.185; 0.186; 0.185; 0.186; 0.185; 0.186; 0.185; 0.186; 0.185; 0.186; 0.185; 0.186; 0.185; 0.186; 0.185; 0.186; 0.186; 0.186; 0.185; 0.186; 0.185; 0.185; 0.185; 0.185; 0.186; 0.186; 0.186; 0.186; 0.185; 0.185; 0.185; 0.185; 0.186; 0.186; 0.187; 0.186; 0.185; 0.185; 0.185; 0.185; 0.185; 0.186; 0.187; 0.186; 0.185; 0.185; 0.185; 0.185; 0.186; 0.186; 0.186; 0.186; 0.185; 0.185; 0.185; 0.185; 0.185; 0.185; 0.187; 0.185; 0.185; 0.185; 0.185; 0.185; 0.185; 0.185; 0.186; 0.186; 0.185; 0.185; 0.185; 0.185; 0.185; 0.185; 0.186; 0.186; 0.186; 0.186; 0.185; 0.185; 0.185; 0.185; 0.185; 0.185; 0.187; 0.185; 0.185; 0.185; 0.185; 0.185; 0.185; 0.185; 0.186; 0.185; 0.185; 0.185; 0.185; 0.185; 0.185; 0.185; 0.186; 0.185; 0.185; 0.185; 0.185; 0.185; 0.185; 0.185; 0.186; 0.185; 0.185; 0.185; 0.185; 0.185; 0.185; 0.185; 0.186; 0.185; 0.186; 0.185; 0.185; 0.185; 0.185; 0.185; 0.186; 0.185; 0.186; 0.185; 0.185; 0.185; 0.185; 0.185; 0.186; 0.185; 0.186; 0.185; 0.185; 0.185; 0.185; 0.185; 0.186; 0.185; 0.186; 0.185; 0.185; 0.185; 0.185; 0.185; 0.186; 0.185; 0.185; 0.185; 0.185; 0.185; 0.185; 0.185; 0.186; 0.185; 0.185; 0.185; 0.185; 0.185; 0.185; 0.185; 0.185; 0.185; 0.185; 0.185; 0.185; 0.185; 0.185; 0.185; 0.185; 0.185; 0.185; 0.185; 0.185; "
     ]
    }
   ],
   "source": [
    "coeffs = train_model(lr=20, t_indep=training_independent, t_dep=trn_dep, epochs=1000)"
   ]
  },
  {
   "cell_type": "code",
   "execution_count": 108,
   "id": "f96f6cfc-ba3b-44b8-a396-9125970d62d1",
   "metadata": {},
   "outputs": [
    {
     "data": {
      "text/plain": [
       "tensor(0.8427)"
      ]
     },
     "execution_count": 108,
     "metadata": {},
     "output_type": "execute_result"
    }
   ],
   "source": [
    "accuracy(coeffs, val_dep=val_dep, val_indep=validation_independent)"
   ]
  },
  {
   "cell_type": "code",
   "execution_count": 123,
   "id": "9ba83e1e-7f54-4eb6-92ae-ea5409f0cc9e",
   "metadata": {},
   "outputs": [
    {
     "data": {
      "text/plain": [
       "tensor(7.8255, requires_grad=True)"
      ]
     },
     "execution_count": 123,
     "metadata": {},
     "output_type": "execute_result"
    }
   ],
   "source": [
    "coeffs[2]\n"
   ]
  },
  {
   "cell_type": "code",
   "execution_count": null,
   "id": "5606c75b-7488-4291-be29-c69dd88a0d04",
   "metadata": {},
   "outputs": [],
   "source": []
  }
 ],
 "metadata": {
  "kernelspec": {
   "display_name": "Python 3 (ipykernel)",
   "language": "python",
   "name": "python3"
  },
  "language_info": {
   "codemirror_mode": {
    "name": "ipython",
    "version": 3
   },
   "file_extension": ".py",
   "mimetype": "text/x-python",
   "name": "python",
   "nbconvert_exporter": "python",
   "pygments_lexer": "ipython3",
   "version": "3.10.4"
  }
 },
 "nbformat": 4,
 "nbformat_minor": 5
}
